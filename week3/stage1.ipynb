{
 "cells": [
  {
   "cell_type": "markdown",
   "metadata": {},
   "source": [
    "# Stage1\n",
    "\n",
    "## 함께실습$1"
   ]
  },
  {
   "cell_type": "code",
   "execution_count": 16,
   "metadata": {
    "ExecuteTime": {
     "end_time": "2019-01-04T07:42:40.412601Z",
     "start_time": "2019-01-04T07:42:40.409051Z"
    },
    "collapsed": true
   },
   "outputs": [],
   "source": [
    "data = {\n",
    "    'wing': [False, True, True, True, True],\n",
    "    'weight': ['light', 'heavy', 'light', 'heavy', 'light'],\n",
    "    'density': ['low', 'high', 'high', 'high', 'low'],\n",
    "    'fly': [False, False, False, False, True]\n",
    "}"
   ]
  },
  {
   "cell_type": "code",
   "execution_count": 15,
   "metadata": {
    "ExecuteTime": {
     "end_time": "2019-01-04T07:41:57.174206Z",
     "start_time": "2019-01-04T07:41:57.168523Z"
    },
    "collapsed": false
   },
   "outputs": [
    {
     "name": "stdout",
     "output_type": "stream",
     "text": [
      "고양이 : 날 수 있는지 확인합니다.\n",
      "날 수 없다\n"
     ]
    }
   ],
   "source": [
    "# 코드작성이 끝나면 target_index를 0부터 4까지 변경하면서 실행해보세요.\n",
    "target_index = 0 \n",
    "target_names = ['고양이', '펭귄', '닭', '타조', '참새']\n",
    "\n",
    "print(target_names[target_index], ': 날 수 있는지 확인합니다.')\n",
    "\n",
    "# 날개 유무\n",
    "if data['wing'][target_index]: # 날개 있음\n",
    "    # 몸무게\n",
    "    if data['weight'][target_index] == 'heavy': # 몸무게 heavy\n",
    "        print('날 수 없다')\n",
    "    else: # 몸무게 light\n",
    "        # 골밀도\n",
    "        if data['density'][target_index] == 'high': # 골밀도 high\n",
    "            print('날 수 없다')\n",
    "        else: # 골밀도 low\n",
    "            print('날 수 있다!!!')\n",
    "else: # 날개 없음\n",
    "    print('날 수 없다')"
   ]
  },
  {
   "cell_type": "markdown",
   "metadata": {},
   "source": [
    "## 함께실습$2"
   ]
  },
  {
   "cell_type": "code",
   "execution_count": 17,
   "metadata": {
    "ExecuteTime": {
     "end_time": "2019-01-04T07:54:14.327172Z",
     "start_time": "2019-01-04T07:54:14.323889Z"
    },
    "collapsed": true
   },
   "outputs": [],
   "source": [
    "data = {\n",
    "    'age': [28, 22, 11, 10],\n",
    "    'fsize': [270, 235, 280, 220],\n",
    "    'gender': ['male', 'female', 'male', 'female']\n",
    "}"
   ]
  },
  {
   "cell_type": "code",
   "execution_count": 23,
   "metadata": {
    "ExecuteTime": {
     "end_time": "2019-01-04T07:57:27.417054Z",
     "start_time": "2019-01-04T07:57:27.411274Z"
    },
    "collapsed": false
   },
   "outputs": [
    {
     "name": "stdout",
     "output_type": "stream",
     "text": [
      "1번 회원 : 성별을 확인합니다.\n",
      "male\n"
     ]
    }
   ],
   "source": [
    "# 코드작성이 끝나면 target_index를 0부터 3까지 변경하면서 실행해보세요.\n",
    "target_index = 0\n",
    "target_names = ['1번 회원', '2번 회원', '3번 회원', '4번 회원']\n",
    "\n",
    "print(target_names[target_index], ': 성별을 확인합니다.')\n",
    "\n",
    "# 나이가 20살 이하인지 확인\n",
    "if data['age'][target_index] <= 20: # 20살 이하\n",
    "    # 발 사이즈가 250 이하인지 확인\n",
    "    if data['fsize'][target_index] <= 250: # 발사이즈 250 이하\n",
    "        print('female')\n",
    "    else: # 발사이즈 250 초과\n",
    "        print('male')\n",
    "else: # 20살 초과\n",
    "    # 발 사이즈가 260 이상인지 확인\n",
    "    if data['fsize'][target_index] >= 260: # 발사이즈 260 이상\n",
    "        print('male')\n",
    "    else: # 발사이즈 260 미만\u001e",
    "\n",
    "        print('female')"
   ]
  }
 ],
 "metadata": {
  "kernelspec": {
   "display_name": "Python 3",
   "language": "python",
   "name": "python3"
  },
  "language_info": {
   "codemirror_mode": {
    "name": "ipython",
    "version": 3
   },
   "file_extension": ".py",
   "mimetype": "text/x-python",
   "name": "python",
   "nbconvert_exporter": "python",
   "pygments_lexer": "ipython3",
   "version": "3.6.7"
  }
 },
 "nbformat": 4,
 "nbformat_minor": 2
}
