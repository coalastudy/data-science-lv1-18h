{
 "cells": [
  {
   "cell_type": "markdown",
   "metadata": {},
   "source": [
    "# Level Up - week3\n",
    "\n",
    "## 여러 특성을 지닌 데이터의 Decision Tree\n",
    "\n",
    "카테고리 특성, 연속적 특성을 모두 가진 데이터의 의사결정나무 만들기"
   ]
  },
  {
   "cell_type": "code",
   "execution_count": 24,
   "metadata": {
    "ExecuteTime": {
     "end_time": "2019-01-04T08:12:43.766152Z",
     "start_time": "2019-01-04T08:12:43.762702Z"
    },
    "collapsed": true
   },
   "outputs": [],
   "source": [
    "data = {\n",
    "    'weight': [28, 2, 9, 6],\n",
    "    'movable': [True, True, True, False],\n",
    "    'category': ['animal', 'plant', 'animal', 'plant']\n",
    "}"
   ]
  },
  {
   "cell_type": "code",
   "execution_count": 33,
   "metadata": {
    "ExecuteTime": {
     "end_time": "2019-01-04T08:15:31.667886Z",
     "start_time": "2019-01-04T08:15:31.663062Z"
    },
    "collapsed": false
   },
   "outputs": [
    {
     "name": "stdout",
     "output_type": "stream",
     "text": [
      "1번 생물 : 동물/식물을 분류합니다.\n",
      "animal\n"
     ]
    }
   ],
   "source": [
    "# 코드작성이 끝나면 target_index를 0부터 3까지 변경하면서 실행해보세요.\n",
    "target_index = 0\n",
    "target_names = ['1번 생물', '2번 생물', '3번 생물', '4번 생물']\n",
    "\n",
    "print(target_names[target_index], ': 동물/식물을 분류합니다.')\n",
    "\n",
    "# 움직이는지 확인\n",
    "if data['movable'][target_index]: # 움직인다\n",
    "    # 무게 확인\n",
    "    if data['weight'][target_index] <= 6: # 무게 <= 6\n",
    "        print('plant')\n",
    "    else: # 무게 > 6\n",
    "        print('animal')\n",
    "else: # 움직이지 못한다\n",
    "    print('plant')"
   ]
  }
 ],
 "metadata": {
  "kernelspec": {
   "display_name": "Python 3",
   "language": "python",
   "name": "python3"
  },
  "language_info": {
   "codemirror_mode": {
    "name": "ipython",
    "version": 3
   },
   "file_extension": ".py",
   "mimetype": "text/x-python",
   "name": "python",
   "nbconvert_exporter": "python",
   "pygments_lexer": "ipython3",
   "version": "3.6.7"
  }
 },
 "nbformat": 4,
 "nbformat_minor": 2
}
