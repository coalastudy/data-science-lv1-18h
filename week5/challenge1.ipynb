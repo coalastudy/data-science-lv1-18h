{
 "cells": [
  {
   "cell_type": "markdown",
   "metadata": {},
   "source": [
    "# Challenge1 - WEEK5"
   ]
  },
  {
   "cell_type": "markdown",
   "metadata": {},
   "source": [
    "![image.png](attachment:image.png)\n",
    "\n",
    "지금껏 일차함수의 선형회귀식을 찾아봤습니다. 만약 데이터의 분포가 위와 같다면, 2차 함수의 선형회귀가 훨씬 적절하지 않을까요?\n",
    "\n",
    "네, 가정이 맞습니다. 눈으로도 쉽게 알 수 있죠.\n",
    "딱 봐도 위에서 빨간색으로 그린 회귀식이 단순 직선보다 더 정확한 예측을 가능하게 해줍니다.\n",
    "\n",
    "stage1을 참고하여 같은 방식으로 Polynomial Linear Regression을 완성해보세요."
   ]
  },
  {
   "cell_type": "code",
   "execution_count": 9,
   "metadata": {
    "ExecuteTime": {
     "end_time": "2019-02-12T06:42:02.766367Z",
     "start_time": "2019-02-12T06:42:02.761860Z"
    },
    "collapsed": true
   },
   "outputs": [],
   "source": [
    "data = [(1,5), (1.5, 4), (2,3),\n",
    "        (3,1), (3,2), (4,1),\n",
    "        (5,1.5), (6,2), (6,4),\n",
    "        (7,4), (7,5)]\n",
    "\n",
    "# y = ax^2 + bx + c"
   ]
  },
  {
   "cell_type": "code",
   "execution_count": 14,
   "metadata": {
    "collapsed": false
   },
   "outputs": [
    {
     "name": "stdout",
     "output_type": "stream",
     "text": [
      "5141.3125\n"
     ]
    }
   ],
   "source": [
    "a = 1\n",
    "b = -1\n",
    "c = 1\n",
    "\n",
    "sums = 0\n",
    "for (x, y) in data:\n",
    "    predict = a * x * x + b * x + c\n",
    "    sums = sums + (y - predict) * (y - predict)\n",
    "    \n",
    "print(sums)"
   ]
  },
  {
   "cell_type": "markdown",
   "metadata": {},
   "source": [
    "여러 a,b,c 값들을 테스트하며 최소값을 찾아보세요.\n",
    "\n",
    "a = 0\n",
    "b = -4\n",
    "c = 9\n",
    "일 때 오차 제곱의 합이 5.265625가 나오는군요!"
   ]
  }
 ],
 "metadata": {
  "kernelspec": {
   "display_name": "Python 3",
   "language": "python",
   "name": "python3"
  },
  "language_info": {
   "codemirror_mode": {
    "name": "ipython",
    "version": 3
   },
   "file_extension": ".py",
   "mimetype": "text/x-python",
   "name": "python",
   "nbconvert_exporter": "python",
   "pygments_lexer": "ipython3",
   "version": "3.6.7"
  }
 },
 "nbformat": 4,
 "nbformat_minor": 2
}
