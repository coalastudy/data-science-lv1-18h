{
 "cells": [
  {
   "cell_type": "markdown",
   "metadata": {},
   "source": [
    "# Level Up - week2\n",
    "\n",
    "## 파일 입출력\n",
    "\n",
    "파일을 읽고 저장하는 방법입니다."
   ]
  },
  {
   "cell_type": "code",
   "execution_count": 1,
   "metadata": {
    "ExecuteTime": {
     "end_time": "2019-02-16T01:40:57.170244Z",
     "start_time": "2019-02-16T01:40:57.137223Z"
    },
    "collapsed": true
   },
   "outputs": [],
   "source": [
    "f = open(\"test.csv\", \"w\")\n",
    "f.write(\"이름,주소\\n\")\n",
    "f.write(\"최도근,마포 공덕\\n\")\n",
    "f.write(\"이헌영,서대문 연희\\n\")\n",
    "f.close()"
   ]
  },
  {
   "cell_type": "code",
   "execution_count": 2,
   "metadata": {
    "ExecuteTime": {
     "end_time": "2019-02-16T01:40:58.029852Z",
     "start_time": "2019-02-16T01:40:58.024130Z"
    },
    "collapsed": false
   },
   "outputs": [
    {
     "name": "stdout",
     "output_type": "stream",
     "text": [
      "이름,주소\n",
      "\n",
      "최도근,마포 공덕\n",
      "\n",
      "이헌영,서대문 연희\n",
      "\n"
     ]
    }
   ],
   "source": [
    "f = open(\"test.csv\", \"r\")\n",
    "line = f.readline()\n",
    "print(line)\n",
    "line = f.readline()\n",
    "print(line)\n",
    "line = f.readline()\n",
    "print(line)\n",
    "f.close()"
   ]
  },
  {
   "cell_type": "code",
   "execution_count": null,
   "metadata": {
    "collapsed": true
   },
   "outputs": [],
   "source": []
  }
 ],
 "metadata": {
  "kernelspec": {
   "display_name": "Python 3",
   "language": "python",
   "name": "python3"
  },
  "language_info": {
   "codemirror_mode": {
    "name": "ipython",
    "version": 3
   },
   "file_extension": ".py",
   "mimetype": "text/x-python",
   "name": "python",
   "nbconvert_exporter": "python",
   "pygments_lexer": "ipython3",
   "version": "3.6.7"
  }
 },
 "nbformat": 4,
 "nbformat_minor": 2
}
