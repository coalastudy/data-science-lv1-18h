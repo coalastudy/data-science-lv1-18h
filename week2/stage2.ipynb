{
 "cells": [
  {
   "cell_type": "markdown",
   "metadata": {},
   "source": [
    "# Stage2\n",
    "---\n"
   ]
  },
  {
   "cell_type": "markdown",
   "metadata": {},
   "source": [
    "## 함께실습$1\n",
    "---"
   ]
  },
  {
   "cell_type": "code",
   "execution_count": 1,
   "metadata": {
    "ExecuteTime": {
     "end_time": "2018-12-28T02:12:56.107095Z",
     "start_time": "2018-12-28T02:12:56.100407Z"
    },
    "collapsed": false
   },
   "outputs": [
    {
     "name": "stdout",
     "output_type": "stream",
     "text": [
      "1 2 -1231 -123.53323\n"
     ]
    }
   ],
   "source": [
    "a=1\n",
    "b = 2\n",
    "c      =-1231\n",
    "d=-123.53323\n",
    "print(a,b,c,d)"
   ]
  },
  {
   "cell_type": "code",
   "execution_count": 2,
   "metadata": {
    "ExecuteTime": {
     "end_time": "2018-12-28T02:12:59.086442Z",
     "start_time": "2018-12-28T02:12:59.083138Z"
    },
    "collapsed": false
   },
   "outputs": [
    {
     "name": "stdout",
     "output_type": "stream",
     "text": [
      "444\n"
     ]
    }
   ],
   "source": [
    "add = 123 + 321\n",
    "print(add)"
   ]
  },
  {
   "cell_type": "code",
   "execution_count": 3,
   "metadata": {
    "ExecuteTime": {
     "end_time": "2018-12-28T02:13:02.822304Z",
     "start_time": "2018-12-28T02:13:02.819158Z"
    },
    "collapsed": false
   },
   "outputs": [
    {
     "name": "stdout",
     "output_type": "stream",
     "text": [
      "13\n"
     ]
    }
   ],
   "source": [
    "res = 3 + (2 * 5)\n",
    "print(res)"
   ]
  },
  {
   "cell_type": "code",
   "execution_count": 4,
   "metadata": {
    "ExecuteTime": {
     "end_time": "2018-12-28T02:13:06.031699Z",
     "start_time": "2018-12-28T02:13:06.028490Z"
    },
    "collapsed": false
   },
   "outputs": [
    {
     "name": "stdout",
     "output_type": "stream",
     "text": [
      "4.333333333333333\n"
     ]
    }
   ],
   "source": [
    "res = res / 3\n",
    "print(res)"
   ]
  },
  {
   "cell_type": "code",
   "execution_count": 5,
   "metadata": {
    "ExecuteTime": {
     "end_time": "2018-12-28T02:13:09.034895Z",
     "start_time": "2018-12-28T02:13:09.027645Z"
    },
    "collapsed": false
   },
   "outputs": [
    {
     "name": "stdout",
     "output_type": "stream",
     "text": [
      "-1228\n"
     ]
    }
   ],
   "source": [
    "print(1 + 2 - 1231)"
   ]
  },
  {
   "cell_type": "code",
   "execution_count": 6,
   "metadata": {
    "ExecuteTime": {
     "end_time": "2018-12-28T02:13:12.614654Z",
     "start_time": "2018-12-28T02:13:12.611216Z"
    },
    "collapsed": false
   },
   "outputs": [
    {
     "name": "stdout",
     "output_type": "stream",
     "text": [
      "-1228\n"
     ]
    }
   ],
   "source": [
    "print(a + b + c)"
   ]
  },
  {
   "cell_type": "markdown",
   "metadata": {},
   "source": [
    "## 함께실습$2\n",
    "---"
   ]
  },
  {
   "cell_type": "code",
   "execution_count": 7,
   "metadata": {
    "ExecuteTime": {
     "end_time": "2018-12-28T02:13:32.855271Z",
     "start_time": "2018-12-28T02:13:32.851572Z"
    },
    "collapsed": false
   },
   "outputs": [
    {
     "name": "stdout",
     "output_type": "stream",
     "text": [
      "Hello World\n",
      "안녕 세상\n"
     ]
    }
   ],
   "source": [
    "a = 'Hello World'\n",
    "print(a)\n",
    "\n",
    "b = \"안녕 세상\"\n",
    "print(b)"
   ]
  },
  {
   "cell_type": "code",
   "execution_count": 8,
   "metadata": {
    "ExecuteTime": {
     "end_time": "2018-12-28T02:13:36.206364Z",
     "start_time": "2018-12-28T02:13:36.202935Z"
    },
    "collapsed": false
   },
   "outputs": [
    {
     "name": "stdout",
     "output_type": "stream",
     "text": [
      "Hi\n"
     ]
    }
   ],
   "source": [
    "a = \"Hi\"\n",
    "print(a)"
   ]
  },
  {
   "cell_type": "code",
   "execution_count": 9,
   "metadata": {
    "ExecuteTime": {
     "end_time": "2018-12-28T02:13:39.413934Z",
     "start_time": "2018-12-28T02:13:39.410644Z"
    },
    "collapsed": false
   },
   "outputs": [
    {
     "name": "stdout",
     "output_type": "stream",
     "text": [
      "Hi\n"
     ]
    }
   ],
   "source": [
    "b = a\n",
    "print(b)"
   ]
  },
  {
   "cell_type": "code",
   "execution_count": 10,
   "metadata": {
    "ExecuteTime": {
     "end_time": "2018-12-28T02:13:42.983177Z",
     "start_time": "2018-12-28T02:13:42.979514Z"
    },
    "collapsed": false
   },
   "outputs": [
    {
     "name": "stdout",
     "output_type": "stream",
     "text": [
      "여러줄에 걸쳐 글을 쓰려면?\n",
      "크리스티아누\n",
      "호날두\n",
      "두스\n",
      "산투스\n",
      "아베이루\n"
     ]
    }
   ],
   "source": [
    "longName = '''여러줄에 걸쳐 글을 쓰려면?\n",
    "크리스티아누\n",
    "호날두\n",
    "두스\n",
    "산투스\n",
    "아베이루'''\n",
    "print(longName)"
   ]
  },
  {
   "cell_type": "markdown",
   "metadata": {},
   "source": [
    "## 미션$1\n",
    "---"
   ]
  },
  {
   "cell_type": "markdown",
   "metadata": {},
   "source": [
    "### 1. 문자를 더하면?"
   ]
  },
  {
   "cell_type": "code",
   "execution_count": 11,
   "metadata": {
    "ExecuteTime": {
     "end_time": "2018-12-28T02:14:52.100593Z",
     "start_time": "2018-12-28T02:14:52.097672Z"
    },
    "collapsed": false
   },
   "outputs": [
    {
     "name": "stdout",
     "output_type": "stream",
     "text": [
      "my name is Django\n"
     ]
    }
   ],
   "source": [
    "a = 'my name is '\n",
    "b = 'Django'\n",
    "print(a + b)"
   ]
  },
  {
   "cell_type": "markdown",
   "metadata": {},
   "source": [
    "### 2. 문자형에 들어 있는 숫자끼리 더하면?"
   ]
  },
  {
   "cell_type": "code",
   "execution_count": 12,
   "metadata": {
    "ExecuteTime": {
     "end_time": "2018-12-28T02:15:03.884065Z",
     "start_time": "2018-12-28T02:15:03.881344Z"
    },
    "collapsed": false
   },
   "outputs": [
    {
     "name": "stdout",
     "output_type": "stream",
     "text": [
      "12344321\n"
     ]
    }
   ],
   "source": [
    "num1 = '1234'\n",
    "num2 = '4321'\n",
    "print(num1 + num2)"
   ]
  },
  {
   "cell_type": "markdown",
   "metadata": {},
   "source": [
    "### 3. K는 어떤 값이 될까요?"
   ]
  },
  {
   "cell_type": "code",
   "execution_count": 13,
   "metadata": {
    "ExecuteTime": {
     "end_time": "2018-12-28T02:15:11.395948Z",
     "start_time": "2018-12-28T02:15:11.392466Z"
    },
    "collapsed": false
   },
   "outputs": [
    {
     "name": "stdout",
     "output_type": "stream",
     "text": [
      "P\n"
     ]
    }
   ],
   "source": [
    "K = 'P'\n",
    "P = 123\n",
    "print(K)"
   ]
  },
  {
   "cell_type": "markdown",
   "metadata": {},
   "source": [
    "## 함께실습$3\n",
    "---"
   ]
  },
  {
   "cell_type": "code",
   "execution_count": 16,
   "metadata": {
    "ExecuteTime": {
     "end_time": "2018-12-28T02:18:55.350926Z",
     "start_time": "2018-12-28T02:18:55.347321Z"
    },
    "collapsed": false
   },
   "outputs": [
    {
     "name": "stdout",
     "output_type": "stream",
     "text": [
      "성인입니다\n"
     ]
    }
   ],
   "source": [
    "age = 25\n",
    "if age > 19:\n",
    "    print('성인입니다')\n",
    "else:\n",
    "    print('청소년입니다')"
   ]
  },
  {
   "cell_type": "code",
   "execution_count": 18,
   "metadata": {
    "ExecuteTime": {
     "end_time": "2018-12-28T02:20:39.534864Z",
     "start_time": "2018-12-28T02:20:39.530836Z"
    },
    "collapsed": false
   },
   "outputs": [
    {
     "name": "stdout",
     "output_type": "stream",
     "text": [
      "중학생 할인혜택이 적용됩니다.\n"
     ]
    }
   ],
   "source": [
    "age = 15\n",
    "\n",
    "# or도 사용가능합니다.\n",
    "if age >= 14 and age <= 16:\n",
    "    print('중학생 할인혜택이 적용됩니다.')\n",
    "else:\n",
    "    print('할인 대상자가 아닙니다.')"
   ]
  },
  {
   "cell_type": "markdown",
   "metadata": {},
   "source": [
    "## 함께실습$4\n",
    "---"
   ]
  },
  {
   "cell_type": "code",
   "execution_count": 21,
   "metadata": {
    "ExecuteTime": {
     "end_time": "2018-12-28T02:22:12.741415Z",
     "start_time": "2018-12-28T02:22:12.736892Z"
    },
    "collapsed": false
   },
   "outputs": [
    {
     "name": "stdout",
     "output_type": "stream",
     "text": [
      "우\n"
     ]
    }
   ],
   "source": [
    "score = 85\n",
    "\n",
    "if score >= 90:\n",
    "    print('수')\n",
    "elif score >= 80:\n",
    "    print('우')\n",
    "elif score >= 70:\n",
    "    print('미')\n",
    "elif score >= 60:\n",
    "    print('양')\n",
    "else:\n",
    "    print('가')"
   ]
  },
  {
   "cell_type": "markdown",
   "metadata": {},
   "source": [
    "## 미션$2\n",
    "---"
   ]
  },
  {
   "cell_type": "code",
   "execution_count": 20,
   "metadata": {
    "ExecuteTime": {
     "end_time": "2018-12-28T02:22:09.445877Z",
     "start_time": "2018-12-28T02:22:09.441203Z"
    },
    "collapsed": false
   },
   "outputs": [
    {
     "name": "stdout",
     "output_type": "stream",
     "text": [
      "우\n"
     ]
    }
   ],
   "source": [
    "score = 85\n",
    "\n",
    "if score >= 90:\n",
    "    print('수')\n",
    "if score < 90 and score >= 80:\n",
    "    print('우')\n",
    "if score < 80 and score >= 70:\n",
    "    print('미')\n",
    "if score < 70 and score >= 60:\n",
    "    print('양')\n",
    "if score < 60:\n",
    "    print('가')"
   ]
  },
  {
   "cell_type": "markdown",
   "metadata": {},
   "source": [
    "## 미션$3\n",
    "---\n",
    "### 방법1"
   ]
  },
  {
   "cell_type": "code",
   "execution_count": 22,
   "metadata": {
    "ExecuteTime": {
     "end_time": "2018-12-28T02:26:28.651597Z",
     "start_time": "2018-12-28T02:26:28.647815Z"
    },
    "collapsed": false
   },
   "outputs": [
    {
     "name": "stdout",
     "output_type": "stream",
     "text": [
      "불합격\n"
     ]
    }
   ],
   "source": [
    "age = 25\n",
    "score = 75\n",
    "\n",
    "if age >= 20:\n",
    "    if score >= 80:\n",
    "        print('합격')\n",
    "    else:\n",
    "        print('불합격')\n",
    "else:\n",
    "    if score >= 70:\n",
    "        print('합격')\n",
    "    else:\n",
    "        print('불합격')"
   ]
  },
  {
   "cell_type": "markdown",
   "metadata": {},
   "source": [
    "### 방법2"
   ]
  },
  {
   "cell_type": "code",
   "execution_count": 24,
   "metadata": {
    "ExecuteTime": {
     "end_time": "2018-12-28T02:28:12.348020Z",
     "start_time": "2018-12-28T02:28:12.343219Z"
    },
    "collapsed": false
   },
   "outputs": [
    {
     "name": "stdout",
     "output_type": "stream",
     "text": [
      "불합격\n"
     ]
    }
   ],
   "source": [
    "age = 25\n",
    "score = 75\n",
    "\n",
    "if age >= 20 and score >= 80:\n",
    "    print('합격')\n",
    "elif age >= 20 and score < 80:\n",
    "    print('불합격')\n",
    "elif age < 20 and score >= 70:\n",
    "    print('합격')\n",
    "elif age < 20 and score < 70:\n",
    "    print('불합격')"
   ]
  },
  {
   "cell_type": "markdown",
   "metadata": {},
   "source": [
    "## 함께실습$5\n",
    "---"
   ]
  },
  {
   "cell_type": "code",
   "execution_count": 1,
   "metadata": {
    "ExecuteTime": {
     "end_time": "2019-02-16T01:43:39.047556Z",
     "start_time": "2019-02-16T01:43:39.041492Z"
    },
    "collapsed": false
   },
   "outputs": [
    {
     "name": "stdout",
     "output_type": "stream",
     "text": [
      "박청용\n",
      "650101\n",
      "1100\n"
     ]
    }
   ],
   "source": [
    "myname = \"박청용\"\n",
    "birth = 650101\n",
    "addr = \"서울 마포 공덕\"\n",
    "\n",
    "person_info = [myname, birth, addr, \"남자\", 1100]\n",
    "\n",
    "print(person_info[0])\n",
    "print(person_info[1])\n",
    "print(person_info[4])"
   ]
  },
  {
   "cell_type": "markdown",
   "metadata": {},
   "source": [
    "## 함께실습$6\n",
    "---"
   ]
  },
  {
   "cell_type": "code",
   "execution_count": 2,
   "metadata": {
    "ExecuteTime": {
     "end_time": "2019-02-16T01:44:37.525348Z",
     "start_time": "2019-02-16T01:44:37.520763Z"
    },
    "collapsed": false
   },
   "outputs": [
    {
     "name": "stdout",
     "output_type": "stream",
     "text": [
      "박청용\n",
      "650101\n",
      "1100\n"
     ]
    }
   ],
   "source": [
    "myname = \"박청용\"\n",
    "birth = 650101\n",
    "addr = \"서울 마포 공덕\"\n",
    "\n",
    "user_info = {\n",
    "    \"name\": myname,\n",
    "    \"birth\": birth,\n",
    "    \"address\": addr,\n",
    "    \"gender\": \"남자\",\n",
    "    \"point\": 1100\n",
    "}\n",
    "\n",
    "print(user_info[\"name\"])\n",
    "print(user_info[\"birth\"])\n",
    "print(user_info[\"point\"])"
   ]
  },
  {
   "cell_type": "markdown",
   "metadata": {},
   "source": [
    "## 함께실습$7\n",
    "---"
   ]
  },
  {
   "cell_type": "code",
   "execution_count": 27,
   "metadata": {
    "ExecuteTime": {
     "end_time": "2018-12-28T02:28:45.435389Z",
     "start_time": "2018-12-28T02:28:45.430615Z"
    },
    "collapsed": false
   },
   "outputs": [
    {
     "name": "stdout",
     "output_type": "stream",
     "text": [
      "['최도근', 920318, '서울 마포 공덕', '남자', 1100]\n",
      "['박지성', 810225, '맨체스터', '남자', 13000]\n",
      "맨체스터\n",
      "서울 마포 공덕\n"
     ]
    }
   ],
   "source": [
    "person_info2 = [\"박지성\", 810225, \"맨체스터\", \"남자\", 13000]\n",
    "user_list = [person_info, person_info2, user_info]\n",
    "\n",
    "print(user_list[0])\n",
    "print(user_list[1])\n",
    "print(user_list[1][2])\n",
    "print(user_list[2][\"address\"])"
   ]
  }
 ],
 "metadata": {
  "kernelspec": {
   "display_name": "Python 3",
   "language": "python",
   "name": "python3"
  },
  "language_info": {
   "codemirror_mode": {
    "name": "ipython",
    "version": 3
   },
   "file_extension": ".py",
   "mimetype": "text/x-python",
   "name": "python",
   "nbconvert_exporter": "python",
   "pygments_lexer": "ipython3",
   "version": "3.6.7"
  }
 },
 "nbformat": 4,
 "nbformat_minor": 2
}
