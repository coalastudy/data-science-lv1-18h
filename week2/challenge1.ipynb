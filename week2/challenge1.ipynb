{
 "cells": [
  {
   "cell_type": "markdown",
   "metadata": {},
   "source": [
    "# Challenge1 - WEEK2\n",
    "\n",
    "## 전화번호부 만들기"
   ]
  },
  {
   "cell_type": "code",
   "execution_count": 3,
   "metadata": {
    "ExecuteTime": {
     "end_time": "2019-02-16T02:57:52.930216Z",
     "start_time": "2019-02-16T02:57:52.925610Z"
    },
    "collapsed": false
   },
   "outputs": [
    {
     "name": "stdout",
     "output_type": "stream",
     "text": [
      "1단계: 전체 출력하기\n",
      "[{'name': '박지성', 'phone': '01040281234'}, {'name': '이청용', 'phone': '01012344321'}, {'name': '손흥민', 'phone': '01007070202'}]\n",
      "-----------------\n",
      "2단계: 이청용 정보만 출력하기\n",
      "{'name': '이청용', 'phone': '01012344321'}\n"
     ]
    }
   ],
   "source": [
    "phonebook = [{\n",
    "    'name': '박지성',\n",
    "    'phone': '01040281234'\n",
    "}, {\n",
    "    'name': '이청용',\n",
    "    'phone': '01012344321'\n",
    "}, {\n",
    "    'name': '손흥민',\n",
    "    'phone': '01007070202'\n",
    "}]\n",
    "\n",
    "# 1단계\n",
    "print('1단계: 전체 출력하기')\n",
    "print(phonebook)\n",
    "\n",
    "# 2단계\n",
    "print('-----------------')\n",
    "print('2단계: 이청용 정보만 출력하기')\n",
    "print(phonebook[1])"
   ]
  }
 ],
 "metadata": {
  "kernelspec": {
   "display_name": "Python 3",
   "language": "python",
   "name": "python3"
  },
  "language_info": {
   "codemirror_mode": {
    "name": "ipython",
    "version": 3
   },
   "file_extension": ".py",
   "mimetype": "text/x-python",
   "name": "python",
   "nbconvert_exporter": "python",
   "pygments_lexer": "ipython3",
   "version": "3.6.7"
  }
 },
 "nbformat": 4,
 "nbformat_minor": 2
}
