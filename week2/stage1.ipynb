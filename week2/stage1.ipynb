{
 "cells": [
  {
   "cell_type": "markdown",
   "metadata": {},
   "source": [
    "# Stage1\n",
    "\n",
    "---\n",
    "\n",
    "## 함께실습$2"
   ]
  },
  {
   "cell_type": "code",
   "execution_count": 1,
   "metadata": {
    "ExecuteTime": {
     "end_time": "2018-12-28T01:59:45.420866Z",
     "start_time": "2018-12-28T01:59:45.416927Z"
    }
   },
   "outputs": [
    {
     "name": "stdout",
     "output_type": "stream",
     "text": [
      "Hello World!\n"
     ]
    }
   ],
   "source": [
    "print('Hello World!')"
   ]
  },
  {
   "cell_type": "markdown",
   "metadata": {},
   "source": [
    "# 큰 제목: 안녕하세요?\n",
    "## 작은 제목: 테스트입니다\n",
    "\n",
    "*기울기*\n",
    "\n",
    "**진하게**\n",
    "\n",
    "`파이썬` `데이터` `사이언스`"
   ]
  },
  {
   "cell_type": "markdown",
   "metadata": {},
   "source": [
    "## 함께실습$3\n",
    "---\n",
    "\n",
    "# 큰 제목\n",
    "## 제목\n",
    "### 제목\n",
    "#### 제목\n",
    "##### 제목\n",
    "###### 제목"
   ]
  },
  {
   "cell_type": "markdown",
   "metadata": {},
   "source": [
    "## 함께실습$4\n",
    "\n",
    "---\n",
    "\n",
    "# 순서 없는 리스트\n",
    "\n",
    "- 순서없는 리스트 목록1\n",
    "- 순서없는 리스트 목록2\n",
    "  - 앞에 두칸 띄고\n",
    "    - 또 두칸 띄고\n",
    "    \n",
    "# 순서 있는 리스트\n",
    "\n",
    "1. 순서있는 리스트 목록1\n",
    "1. 순서있는 리스트 목록2\n",
    "1. 순서있는 리스트 목록3"
   ]
  },
  {
   "cell_type": "markdown",
   "metadata": {},
   "source": [
    "## 함께실습$5\n",
    "\n",
    "---\n",
    "\n",
    "# 이미지, 링크\n",
    "\n",
    "---\n",
    "\n",
    "## 이미지\n",
    "![이미지설명](https://www.google.com/images/branding/googlelogo/2x/googlelogo_color_272x92dp.png)\n",
    "\n",
    "## 링크\n",
    "[링크](http://naver.com)"
   ]
  },
  {
   "cell_type": "markdown",
   "metadata": {},
   "source": [
    "## 함께실습$6\n",
    "\n",
    "---\n",
    "\n",
    "# 기타\n",
    "\n",
    "---\n",
    "\n",
    "## 글자 진하게\n",
    "**진하게 표시**\n",
    "\n",
    "## 코드 넣기\n",
    "```python\n",
    "msg = input('내용을 입력해주세요')\n",
    "print('파이썬 코드', msg)\n",
    "```\n",
    "\n",
    "## 글 중간에 코드 넣기\n",
    "글 중간에 `코드` 넣기\n",
    "\n",
    "## 인용구\n",
    "> 인용(끝에 스페이스바 2번)  \n",
    "> 내용"
   ]
  },
  {
   "cell_type": "markdown",
   "metadata": {},
   "source": [
    "## 함께실습$7\n",
    "\n",
    "---\n",
    "\n",
    "# 표\n",
    "이름|전화번호|이메일\n",
    "-|-|-\n",
    "A|010|a@a.com\n",
    "B|070|b@b.kr"
   ]
  },
  {
   "cell_type": "markdown",
   "metadata": {},
   "source": [
    "## 함께실습$8\n",
    "\n",
    "---"
   ]
  },
  {
   "cell_type": "code",
   "execution_count": 2,
   "metadata": {
    "ExecuteTime": {
     "end_time": "2018-12-28T02:06:12.006319Z",
     "start_time": "2018-12-28T02:06:09.310213Z"
    }
   },
   "outputs": [],
   "source": [
    "import pandas as pd\n",
    "import numpy as np"
   ]
  },
  {
   "cell_type": "markdown",
   "metadata": {},
   "source": [
    "## 미션$1\n",
    "\n",
    "---"
   ]
  },
  {
   "cell_type": "markdown",
   "metadata": {
    "ExecuteTime": {
     "end_time": "2018-12-28T02:11:09.529723Z",
     "start_time": "2018-12-28T02:11:09.524792Z"
    }
   },
   "source": [
    "# 마크다운 연습기\n",
    "---\n",
    "마크다운을 사용하면서 주피터 노트북과 친해져보겠습니다.  \n",
    "이 링크를 누르면 [코알라](https://coalastudy.com)로 이동하세요.\n",
    "\n",
    "여기서부터는 다른 문단입니다."
   ]
  },
  {
   "cell_type": "markdown",
   "metadata": {},
   "source": [
    "---\n",
    "## 지금까지 배운내용\n",
    "마크다운으로 배운 내용\n",
    "\n",
    "1. 큰 제목 넣기\n",
    "1. 리스트 넣기\n",
    "1. 표 넣기\n",
    "1. 기타"
   ]
  },
  {
   "cell_type": "markdown",
   "metadata": {},
   "source": [
    "---\n",
    "## 정리  \n",
    "\n",
    "문법|사용법\n",
    "-|-\n",
    "큰 제목| #을 사용\n",
    "리스트| - 혹은 1. 사용"
   ]
  },
  {
   "cell_type": "markdown",
   "metadata": {},
   "source": [
    "---\n",
    "## 마무리\n",
    "파이썬 코드로 Hello World!를 만들면서 끝내요.\n",
    "```python\n",
    "print('Hello World!')\n",
    "```"
   ]
  },
  {
   "cell_type": "code",
   "execution_count": 2,
   "metadata": {
    "ExecuteTime": {
     "end_time": "2018-12-28T02:11:39.688239Z",
     "start_time": "2018-12-28T02:11:39.684347Z"
    }
   },
   "outputs": [
    {
     "name": "stdout",
     "output_type": "stream",
     "text": [
      "Hello World!\n"
     ]
    }
   ],
   "source": [
    "print('Hello World!')"
   ]
  },
  {
   "cell_type": "markdown",
   "metadata": {},
   "source": [
    "---\n",
    "## 제작자\n",
    "**작성자** 최도근\n",
    "![이미지](http://newsimg.hankookilbo.com/2014/07/28/201407281931795779_1.jpg)"
   ]
  }
 ],
 "metadata": {
  "kernelspec": {
   "display_name": "Python 3",
   "language": "python",
   "name": "python3"
  },
  "language_info": {
   "codemirror_mode": {
    "name": "ipython",
    "version": 3
   },
   "file_extension": ".py",
   "mimetype": "text/x-python",
   "name": "python",
   "nbconvert_exporter": "python",
   "pygments_lexer": "ipython3",
   "version": "3.6.7"
  }
 },
 "nbformat": 4,
 "nbformat_minor": 2
}
